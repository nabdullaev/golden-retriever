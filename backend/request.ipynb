{
 "cells": [
  {
   "cell_type": "code",
   "execution_count": 28,
   "metadata": {},
   "outputs": [
    {
     "name": "stdout",
     "output_type": "stream",
     "text": [
      "{'restaurantName': 'Samaia', 'cuisine': 'Georgian', 'rating': 4.5, 'priceRange': '$$', 'address': 'Across Hammersmith Bridge, South Side of the River, London', 'description': 'Discover the best of hearty Georgian food with fresh ingredients and beautiful dishes.', 'specialties': ['Khinkali', 'Mtsvadi', 'Khachapuri', 'Churchkhela', 'Kotnis Lobio'], 'imageUrl': 'https://www.londonxlondon.com/wp-content/uploads/2023/02/Georgian-cuisine-shutterstock_528048049-720x405.jpg', 'openingHours': {'Monday': '12:00 PM - 10:00 PM', 'Tuesday': '12:00 PM - 10:00 PM', 'Wednesday': '12:00 PM - 10:00 PM', 'Thursday': '12:00 PM - 10:00 PM', 'Friday': '12:00 PM - 11:00 PM', 'Saturday': '12:00 PM - 11:00 PM', 'Sunday': '12:00 PM - 9:00 PM'}}\n"
     ]
    }
   ],
   "source": [
    "import requests\n",
    "import json\n",
    "\n",
    "endpoint = 'http://localhost:5000/api/json_fitter'\n",
    "\n",
    "json_schema = json.loads(open('response_schema.json', 'r').read())\n",
    "\n",
    "data = {\n",
    "    'query': \"Find me restaurants in London where I can go with my family to eat Georgian cuisine\",\n",
    "    'json_schema': json_schema\n",
    "}\n",
    "\n",
    "\n",
    "response = requests.post(endpoint, json=data)\n",
    "print(response.json())"
   ]
  }
 ],
 "metadata": {
  "kernelspec": {
   "display_name": "mlops-project",
   "language": "python",
   "name": "python3"
  },
  "language_info": {
   "codemirror_mode": {
    "name": "ipython",
    "version": 3
   },
   "file_extension": ".py",
   "mimetype": "text/x-python",
   "name": "python",
   "nbconvert_exporter": "python",
   "pygments_lexer": "ipython3",
   "version": "3.10.14"
  }
 },
 "nbformat": 4,
 "nbformat_minor": 2
}
